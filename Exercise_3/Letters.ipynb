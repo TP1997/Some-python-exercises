{
 "cells": [
  {
   "cell_type": "code",
   "execution_count": 6,
   "metadata": {
    "scrolled": true
   },
   "outputs": [],
   "source": [
    "from PIL import Image\n",
    "img=Image.open(\"alphs.jpg\")"
   ]
  },
  {
   "cell_type": "code",
   "execution_count": 7,
   "metadata": {},
   "outputs": [],
   "source": [
    "import string\n",
    "deltax=550\n",
    "deltay=600\n",
    "imgs=[]\n",
    "        \n",
    "for y in range(4):      \n",
    "    for x in range(7):\n",
    "        if y*7+x >= 26: break\n",
    "        imgs.append(img.crop((100+deltax*x,100+deltay*y,600+deltax*x,600+deltay*y)).resize((256,256)))\n",
    "    \n",
    "for i in range(len(imgs)):\n",
    "    imgs[i].save(string.ascii_uppercase[i]+\".png\")"
   ]
  }
 ],
 "metadata": {
  "kernelspec": {
   "display_name": "Python 3",
   "language": "python",
   "name": "python3"
  },
  "language_info": {
   "codemirror_mode": {
    "name": "ipython",
    "version": 3
   },
   "file_extension": ".py",
   "mimetype": "text/x-python",
   "name": "python",
   "nbconvert_exporter": "python",
   "pygments_lexer": "ipython3",
   "version": "3.6.9"
  }
 },
 "nbformat": 4,
 "nbformat_minor": 2
}
