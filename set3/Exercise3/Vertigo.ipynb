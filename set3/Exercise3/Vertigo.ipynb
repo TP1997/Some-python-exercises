{
 "cells": [
  {
   "cell_type": "code",
   "execution_count": 41,
   "metadata": {},
   "outputs": [],
   "source": [
    "def readFile(fname):\n",
    "    data = []\n",
    "    with open(fname) as inp:\n",
    "        for line in inp:\n",
    "            rdata = line.split()\n",
    "            if len(rdata) == 1:\n",
    "                data.append(int(rdata[0]))\n",
    "            else:\n",
    "                data.append([int(i) for i in rdata])\n",
    "            \n",
    "    return data\n",
    "\n",
    "trainData = readFile(\"vertigo_train.txt\")\n",
    "testData = readFile(\"vertigo_predict.txt\")\n",
    "answers = readFile(\"vertigo_answers.txt\")\n"
   ]
  },
  {
   "cell_type": "code",
   "execution_count": 49,
   "metadata": {},
   "outputs": [
    {
     "name": "stdout",
     "output_type": "stream",
     "text": [
      "Perceptron (default): 80.41% correct\n",
      "Perceptron (max_iter = 10): 73.71% correct\n",
      "Perceptron (max_iter = 50): 80.41% correct\n",
      "Perceptron (max_iter = 100): 80.41% correct\n",
      "Perceptron (max_iter = 250): 80.41% correct\n",
      "Perceptron (max_iter = 500): 80.41% correct\n",
      "Perceptron (max_iter = 1000): 80.41% correct\n",
      "\n",
      "Nearest neighbour: 72.68% correct\n"
     ]
    },
    {
     "name": "stderr",
     "output_type": "stream",
     "text": [
      "/home/tuoms/.local/lib/python3.6/site-packages/sklearn/linear_model/stochastic_gradient.py:561: ConvergenceWarning: Maximum number of iteration reached before convergence. Consider increasing max_iter to improve the fit.\n",
      "  ConvergenceWarning)\n"
     ]
    }
   ],
   "source": [
    "from sklearn.linear_model import Perceptron\n",
    "\n",
    "def mDist(veca, vecb):\n",
    "    return sum([abs(elem[1]-elem[0]) for elem in zip(veca, vecb)])\n",
    "\n",
    "# Perceptrons:\n",
    "p = Perceptron()\n",
    "data = [l[1:] for l in trainData]\n",
    "classes = [l[0] for l in trainData]\n",
    "p.fit(data, classes)\n",
    "\n",
    "predicted_classes = p.predict(testData)\n",
    "prec = sum([a[0]==a[1] for a in zip(predicted_classes, answers)]) / len(answers)\n",
    "print(f\"Perceptron (default): {round(100*prec, 2)}% correct\")\n",
    "\n",
    "epochs = [10, 50, 100, 250, 500, 1000]\n",
    "for itr in epochs:\n",
    "    p = Perceptron(max_iter=itr)\n",
    "    p.fit(data, classes)\n",
    "    predicted_classes = p.predict(testData)\n",
    "    prec = sum([a[0]==a[1] for a in zip(predicted_classes, answers)]) / len(answers)\n",
    "    print(f\"Perceptron (max_iter = {itr}): {round(100*prec, 2)}% correct\")\n",
    "    \n",
    "# Nearest neighbour:  \n",
    "print()\n",
    "predicted_classes = []\n",
    "for tstsample in testData:\n",
    "    predic = trainData[0][0]\n",
    "    minDist = float(\"inf\")\n",
    "    for trnsample in trainData:\n",
    "        measuredDist = mDist(tstsample, trnsample[1:])\n",
    "        if measuredDist < minDist:\n",
    "            predic = trnsample[0]\n",
    "            minDist = measuredDist\n",
    "                \n",
    "    predicted_classes.append(predic)\n",
    "    \n",
    "prec = sum([a[0]==a[1] for a in zip(predicted_classes, answers)]) / len(answers)\n",
    "\n",
    "print(f\"Nearest neighbour: {round(100*prec, 2)}% correct\")"
   ]
  },
  {
   "cell_type": "code",
   "execution_count": null,
   "metadata": {},
   "outputs": [],
   "source": []
  }
 ],
 "metadata": {
  "kernelspec": {
   "display_name": "Python 3",
   "language": "python",
   "name": "python3"
  },
  "language_info": {
   "codemirror_mode": {
    "name": "ipython",
    "version": 3
   },
   "file_extension": ".py",
   "mimetype": "text/x-python",
   "name": "python",
   "nbconvert_exporter": "python",
   "pygments_lexer": "ipython3",
   "version": "3.6.9"
  }
 },
 "nbformat": 4,
 "nbformat_minor": 2
}
