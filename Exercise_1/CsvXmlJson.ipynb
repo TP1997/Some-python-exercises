{
 "cells": [
  {
   "cell_type": "code",
   "execution_count": 6,
   "metadata": {},
   "outputs": [],
   "source": [
    "# population_utf8.csv reading functionality\n",
    "import csv\n",
    "file1Data={}\n",
    "n=0\n",
    "with open(\"population_utf8.csv\") as infile:\n",
    "    rd = csv.reader(infile, delimiter=\";\")\n",
    "    for line in rd:\n",
    "        # Note: Only finnish name is used as a key.\n",
    "        file1Data[line[0].split(';')[0]] = int(line[2])\n"
   ]
  },
  {
   "cell_type": "code",
   "execution_count": 7,
   "metadata": {},
   "outputs": [],
   "source": [
    "# results-2019-01-nopeustesti.csv reading functionality\n",
    "\n",
    "# Dictionary which holds all necessary information from both files\n",
    "file2Data = {}\n",
    "with open(\"results-2019-01-nopeustesti.csv\",  errors=\"ignore\") as infile:\n",
    "    rd = csv.reader(infile, delimiter=\",\")\n",
    "    next(infile)\n",
    "    for line in rd:\n",
    "        # Collect data only from municipalities which are present in both files.\n",
    "        if line[3] in file1Data.keys():\n",
    "            # Combine loading speeds to already existing municipality\n",
    "            if line[3] in file2Data:\n",
    "                if line[4] != 'n/a':\n",
    "                    file2Data[line[3]]['downl'].append(int(line[4]))\n",
    "                if line[5] != 'n/a':\n",
    "                    file2Data[line[3]]['upl'].append(int(line[5]))\n",
    "            # Otherwise create new municipality & initalize it\n",
    "            else:\n",
    "                dl = [int(line[4])] if line[4] != 'n/a' else []\n",
    "                ul = [int(line[5])] if line[5] != 'n/a' else []\n",
    "                file2Data[line[3]] = {'pop': file1Data[line[3]], 'downl': dl, 'upl': ul}\n"
   ]
  },
  {
   "cell_type": "code",
   "execution_count": 8,
   "metadata": {},
   "outputs": [],
   "source": [
    "import json\n",
    "import numpy as np\n",
    "# Combine array with json-objects filled with asked information\n",
    "resJson = []\n",
    "for name in list(file2Data.keys()):\n",
    "    dlavg = np.array(file2Data[name]['downl']).mean()\n",
    "    dlvar = np.array(file2Data[name]['downl']).var()\n",
    "    ulavg = np.array(file2Data[name]['upl']).mean()\n",
    "    ulvar = np.array(file2Data[name]['upl']).var()\n",
    "    \n",
    "    resJson.append({'municipality': name,\n",
    "                    'population': file2Data[name]['pop'],\n",
    "                    'DL avg': dlavg,\n",
    "                    'DL var': dlvar,\n",
    "                    'UL avg': ulavg,\n",
    "                    'UL var': ulvar\n",
    "                   })\n",
    "\n",
    "# Write collected data to json-file\n",
    "with open(\"netspeeds.json\", \"w\") as outfile:\n",
    "    json.dump(resJson, outfile, ensure_ascii=False, indent = 4)"
   ]
  },
  {
   "cell_type": "code",
   "execution_count": 9,
   "metadata": {},
   "outputs": [],
   "source": [
    "import xml.etree.ElementTree as ET\n",
    "from xml.dom import minidom\n",
    "\n",
    "# Combine xml-object filled with asked information\n",
    "nsData = ET.Element('NetSpeedData')\n",
    "for key in list(file2Data.keys()):\n",
    "    Municipality = ET.SubElement(nsData, 'Municipality')\n",
    "    name = ET.SubElement(Municipality, 'Name')\n",
    "    name.text = key\n",
    "    pop = ET.SubElement(Municipality, 'Population')\n",
    "    pop.text = str(file2Data[key]['pop'])\n",
    "    dlavg = ET.SubElement(Municipality, 'DLavg')\n",
    "    dlavg.text = str(np.array(file2Data[key]['downl']).mean())\n",
    "    dlvar = ET.SubElement(Municipality, 'DLvar')\n",
    "    dlvar.text = str(np.array(file2Data[key]['downl']).var())\n",
    "    ulavg = ET.SubElement(Municipality, 'ULavg')\n",
    "    ulavg.text = str(np.array(file2Data[key]['upl']).mean())\n",
    "    ulvar = ET.SubElement(Municipality, 'ULvar')\n",
    "    ulvar.text = str(np.array(file2Data[key]['upl']).var())\n",
    "\n",
    "# Write collected data to xml-file\n",
    "nsDataStr = ET.tostring(nsData).decode(\"latin\")\n",
    "with open(\"netspeeds.xml\", \"w\") as outfile:\n",
    "    outfile.write(minidom.parseString(nsDataStr).toprettyxml(indent=\"  \"))\n",
    "    \n"
   ]
  }
 ],
 "metadata": {
  "kernelspec": {
   "display_name": "Python 3",
   "language": "python",
   "name": "python3"
  },
  "language_info": {
   "codemirror_mode": {
    "name": "ipython",
    "version": 3
   },
   "file_extension": ".py",
   "mimetype": "text/x-python",
   "name": "python",
   "nbconvert_exporter": "python",
   "pygments_lexer": "ipython3",
   "version": "3.6.9"
  }
 },
 "nbformat": 4,
 "nbformat_minor": 2
}
