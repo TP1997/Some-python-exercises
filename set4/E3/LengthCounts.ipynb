{
 "cells": [
  {
   "cell_type": "code",
   "execution_count": 1,
   "metadata": {},
   "outputs": [
    {
     "name": "stdout",
     "output_type": "stream",
     "text": [
      "Overwriting lenghtcounts.py\n"
     ]
    }
   ],
   "source": [
    "%%writefile lenghtcounts.py\n",
    "\n",
    "from mrjob.job import MRJob\n",
    "from mrjob.protocol import RawValueProtocol\n",
    "from mrjob.step import MRStep\n",
    "from collections import defaultdict\n",
    "from json import dumps\n",
    "import os\n",
    "\n",
    "class LenCounts(MRJob):\n",
    "    OUTPUT_PROTOCOL = RawValueProtocol\n",
    "    \n",
    "    def steps(self):\n",
    "        return [\n",
    "            MRStep(mapper=self.mapper,\n",
    "                   combiner=self.combiner,\n",
    "                   reducer=self.reducer),\n",
    "            MRStep(reducer=self.reducer2)\n",
    "        ]\n",
    "    \n",
    "    def mapper(self, _, line):\n",
    "        file_name = os.getenv('mapreduce_map_input_file')\n",
    "        words=line.split()\n",
    "        for word in words:\n",
    "            yield((file_name, len(word)), 1)\n",
    "                    \n",
    "    def combiner(self, fn_len, cnt_itr):\n",
    "        yield(fn_len, sum(cnt_itr))\n",
    "    \n",
    "    def reducer(self, fn_len, cnt_itr):\n",
    "        yield(fn_len[0], (fn_len[1], sum(cnt_itr)))\n",
    "        \n",
    "    def reducer2(self, fn, len_cnt_itr):\n",
    "        json_dict={}\n",
    "        json_dict[\"file\"]=fn.split('//')[1]\n",
    "\n",
    "        for data in len_cnt_itr:\n",
    "            ln=data[0]\n",
    "            cnt=data[1]\n",
    "            json_dict[str(ln)]=cnt\n",
    "            \n",
    "        yield(None, dumps(json_dict))\n",
    "        \n",
    "        \n",
    "        \n",
    "if __name__ == '__main__':\n",
    "    LenCounts.run() "
   ]
  },
  {
   "cell_type": "code",
   "execution_count": 2,
   "metadata": {},
   "outputs": [
    {
     "name": "stderr",
     "output_type": "stream",
     "text": [
      "No configs found; falling back on auto-configuration\n",
      "No configs specified for inline runner\n",
      "Creating temp directory /tmp/lenghtcounts.tuoms.20191127.180020.981889\n",
      "Running step 1 of 2...\n",
      "Running step 2 of 2...\n",
      "job output is in /tmp/lenghtcounts.tuoms.20191127.180020.981889/output\n",
      "Streaming final output from /tmp/lenghtcounts.tuoms.20191127.180020.981889/output...\n"
     ]
    },
    {
     "name": "stdout",
     "output_type": "stream",
     "text": [
      "{\"file\": \"americana.txt5\", \"24\": 1, \"29\": 1, \"2\": 17555, \"3\": 20217, \"4\": 13898, \"5\": 11287, \"6\": 9209, \"7\": 8348, \"8\": 5855, \"9\": 4259, \"10\": 2644, \"11\": 1550, \"12\": 870, \"13\": 433, \"14\": 168, \"15\": 61, \"16\": 21, \"17\": 13, \"18\": 1, \"19\": 3, \"1\": 3604, \"21\": 2}\n",
      "{\"file\": \"americana.txt7\", \"10\": 2943, \"11\": 1505, \"12\": 971, \"13\": 419, \"5\": 10729, \"6\": 8734, \"7\": 7835, \"8\": 6013, \"9\": 4355, \"14\": 203, \"15\": 87, \"16\": 30, \"17\": 15, \"18\": 9, \"19\": 3, \"1\": 3207, \"20\": 1, \"24\": 1, \"27\": 1, \"2\": 18593, \"3\": 20054, \"4\": 14292}\n",
      "{\"file\": \"americana.txt4\", \"19\": 3, \"1\": 3142, \"21\": 2, \"23\": 2, \"2\": 17667, \"3\": 20870, \"4\": 13506, \"5\": 11196, \"6\": 8802, \"7\": 8341, \"8\": 6130, \"9\": 4372, \"10\": 2806, \"11\": 1589, \"12\": 912, \"13\": 383, \"14\": 168, \"15\": 78, \"16\": 18, \"17\": 1, \"18\": 12}\n",
      "{\"file\": \"americana.txt2\", \"4\": 13448, \"5\": 10332, \"6\": 9263, \"7\": 7924, \"8\": 6196, \"9\": 4810, \"10\": 3181, \"11\": 1788, \"12\": 971, \"13\": 459, \"14\": 218, \"15\": 65, \"16\": 19, \"17\": 11, \"18\": 2, \"19\": 4, \"1\": 2924, \"20\": 2, \"21\": 1, \"2\": 18078, \"34\": 1, \"3\": 20303}\n",
      "{\"file\": \"americana.txt1\", \"2\": 17785, \"30\": 1, \"3\": 20757, \"4\": 14080, \"5\": 11336, \"6\": 9450, \"7\": 8103, \"8\": 5823, \"9\": 4145, \"10\": 2661, \"11\": 1435, \"12\": 861, \"13\": 336, \"14\": 186, \"15\": 75, \"16\": 30, \"17\": 17, \"18\": 4, \"19\": 2, \"1\": 2912, \"20\": 1}\n",
      "{\"file\": \"americana.txt9\", \"31\": 1, \"38\": 1, \"3\": 6914, \"4\": 4938, \"5\": 3990, \"6\": 2837, \"7\": 2623, \"8\": 1873, \"9\": 1363, \"10\": 843, \"11\": 420, \"12\": 235, \"13\": 103, \"14\": 42, \"15\": 26, \"16\": 7, \"17\": 5, \"18\": 3, \"19\": 1, \"1\": 1078, \"20\": 1, \"23\": 1, \"27\": 1, \"2\": 6279}\n",
      "{\"file\": \"americana.txt8\", \"16\": 22, \"17\": 17, \"18\": 4, \"19\": 4, \"1\": 3017, \"20\": 2, \"21\": 2, \"23\": 1, \"25\": 1, \"2\": 17925, \"33\": 1, \"3\": 21165, \"4\": 14212, \"5\": 10939, \"6\": 9045, \"7\": 8007, \"8\": 5736, \"9\": 4404, \"10\": 2677, \"11\": 1363, \"12\": 878, \"13\": 371, \"14\": 164, \"15\": 43}\n",
      "{\"file\": \"americana.txt3\", \"15\": 59, \"16\": 23, \"17\": 8, \"18\": 4, \"19\": 6, \"1\": 2989, \"20\": 1, \"22\": 1, \"2\": 18364, \"3\": 20055, \"4\": 13823, \"5\": 11114, \"6\": 8677, \"10\": 3086, \"11\": 1573, \"12\": 1004, \"13\": 450, \"14\": 177, \"7\": 7911, \"8\": 5911, \"9\": 4764}\n",
      "{\"file\": \"americana.txt6\", \"3\": 20878, \"4\": 13979, \"5\": 11088, \"6\": 8666, \"7\": 7566, \"8\": 5416, \"9\": 4140, \"12\": 922, \"13\": 439, \"14\": 220, \"15\": 53, \"16\": 11, \"17\": 9, \"18\": 3, \"19\": 1, \"1\": 3189, \"20\": 1, \"23\": 1, \"24\": 1, \"27\": 1, \"28\": 1, \"2\": 18726, \"10\": 2931, \"11\": 1758}\n"
     ]
    },
    {
     "name": "stderr",
     "output_type": "stream",
     "text": [
      "Removing temp directory /tmp/lenghtcounts.tuoms.20191127.180020.981889...\n"
     ]
    }
   ],
   "source": [
    "%run lenghtcounts.py americana.txt* "
   ]
  },
  {
   "cell_type": "code",
   "execution_count": null,
   "metadata": {},
   "outputs": [],
   "source": []
  }
 ],
 "metadata": {
  "kernelspec": {
   "display_name": "Python 3",
   "language": "python",
   "name": "python3"
  },
  "language_info": {
   "codemirror_mode": {
    "name": "ipython",
    "version": 3
   },
   "file_extension": ".py",
   "mimetype": "text/x-python",
   "name": "python",
   "nbconvert_exporter": "python",
   "pygments_lexer": "ipython3",
   "version": "3.6.9"
  }
 },
 "nbformat": 4,
 "nbformat_minor": 2
}
