{
 "cells": [
  {
   "cell_type": "code",
   "execution_count": 63,
   "metadata": {},
   "outputs": [
    {
     "name": "stdout",
     "output_type": "stream",
     "text": [
      "Overwriting primeaverage2.py\n"
     ]
    }
   ],
   "source": [
    "%%writefile primeaverage2.py\n",
    "\n",
    "from mrjob.job import MRJob\n",
    "from mrjob.protocol import RawValueProtocol\n",
    "\n",
    "class PrimeAverage2(MRJob):\n",
    "    OUTPUT_PROTOCOL = RawValueProtocol\n",
    "    \n",
    "    def mapper(self, _, line):\n",
    "        primes=line.split()\n",
    "        try:\n",
    "            fprimes=list(map(float, primes))\n",
    "            if len(fprimes)>0:\n",
    "                yield(None, (sum(fprimes), 8))#/8\n",
    "        except ValueError:\n",
    "            pass\n",
    "        \n",
    "    '''def combiner(self,n_key,part_avg_itr):\n",
    "        cnt_=0\n",
    "        sum_=0\n",
    "        for avg, cnt in part_avg_itr:\n",
    "            #if(avg>0):\n",
    "            #sum_+=avg*cnt\n",
    "            sum_+=avg\n",
    "            cnt_+=cnt\n",
    "            \n",
    "        #res=sum_/cnt_\n",
    "        #if(res>0):\n",
    "        yield(None, (sum_,cnt_))'''\n",
    "        \n",
    "    def reducer(self, n_key, part_avg_itr):\n",
    "        totsum=0\n",
    "        totcnt=0\n",
    "        for avg, cnt in part_avg_itr:\n",
    "            totsum += (avg)\n",
    "            #sum_+=avg\n",
    "            totcnt += cnt\n",
    "            \n",
    "        yield(None, str(totsum/totcnt))#/cnt_\n",
    "        \n",
    "        \n",
    "if __name__ == '__main__':\n",
    "    PrimeAverage2.run()        "
   ]
  },
  {
   "cell_type": "code",
   "execution_count": 64,
   "metadata": {},
   "outputs": [
    {
     "name": "stderr",
     "output_type": "stream",
     "text": [
      "No configs found; falling back on auto-configuration\n",
      "No configs found; falling back on auto-configuration\n",
      "No configs found; falling back on auto-configuration\n",
      "No configs found; falling back on auto-configuration\n",
      "No configs found; falling back on auto-configuration\n",
      "No configs found; falling back on auto-configuration\n",
      "No configs found; falling back on auto-configuration\n",
      "No configs found; falling back on auto-configuration\n",
      "No configs found; falling back on auto-configuration\n",
      "No configs found; falling back on auto-configuration\n",
      "No configs found; falling back on auto-configuration\n",
      "No configs found; falling back on auto-configuration\n",
      "No configs found; falling back on auto-configuration\n",
      "No configs found; falling back on auto-configuration\n",
      "No configs found; falling back on auto-configuration\n",
      "No configs found; falling back on auto-configuration\n",
      "No configs found; falling back on auto-configuration\n",
      "No configs found; falling back on auto-configuration\n",
      "No configs found; falling back on auto-configuration\n",
      "No configs found; falling back on auto-configuration\n",
      "No configs found; falling back on auto-configuration\n",
      "No configs found; falling back on auto-configuration\n",
      "No configs found; falling back on auto-configuration\n",
      "No configs found; falling back on auto-configuration\n",
      "No configs found; falling back on auto-configuration\n",
      "INFO:mrjob.conf:No configs found; falling back on auto-configuration\n",
      "No configs specified for inline runner\n",
      "No configs specified for inline runner\n",
      "No configs specified for inline runner\n",
      "No configs specified for inline runner\n",
      "No configs specified for inline runner\n",
      "No configs specified for inline runner\n",
      "No configs specified for inline runner\n",
      "No configs specified for inline runner\n",
      "No configs specified for inline runner\n",
      "No configs specified for inline runner\n",
      "No configs specified for inline runner\n",
      "No configs specified for inline runner\n",
      "No configs specified for inline runner\n",
      "No configs specified for inline runner\n",
      "No configs specified for inline runner\n",
      "No configs specified for inline runner\n",
      "No configs specified for inline runner\n",
      "No configs specified for inline runner\n",
      "No configs specified for inline runner\n",
      "No configs specified for inline runner\n",
      "No configs specified for inline runner\n",
      "No configs specified for inline runner\n",
      "No configs specified for inline runner\n",
      "No configs specified for inline runner\n",
      "No configs specified for inline runner\n",
      "WARNING:mrjob.conf:No configs specified for inline runner\n",
      "Creating temp directory /tmp/primeaverage2.tuoms.20191123.225959.825364\n",
      "Creating temp directory /tmp/primeaverage2.tuoms.20191123.225959.825364\n",
      "Creating temp directory /tmp/primeaverage2.tuoms.20191123.225959.825364\n",
      "Creating temp directory /tmp/primeaverage2.tuoms.20191123.225959.825364\n",
      "Creating temp directory /tmp/primeaverage2.tuoms.20191123.225959.825364\n",
      "Creating temp directory /tmp/primeaverage2.tuoms.20191123.225959.825364\n",
      "Creating temp directory /tmp/primeaverage2.tuoms.20191123.225959.825364\n",
      "Creating temp directory /tmp/primeaverage2.tuoms.20191123.225959.825364\n",
      "Creating temp directory /tmp/primeaverage2.tuoms.20191123.225959.825364\n",
      "Creating temp directory /tmp/primeaverage2.tuoms.20191123.225959.825364\n",
      "Creating temp directory /tmp/primeaverage2.tuoms.20191123.225959.825364\n",
      "Creating temp directory /tmp/primeaverage2.tuoms.20191123.225959.825364\n",
      "Creating temp directory /tmp/primeaverage2.tuoms.20191123.225959.825364\n",
      "Creating temp directory /tmp/primeaverage2.tuoms.20191123.225959.825364\n",
      "Creating temp directory /tmp/primeaverage2.tuoms.20191123.225959.825364\n",
      "Creating temp directory /tmp/primeaverage2.tuoms.20191123.225959.825364\n",
      "Creating temp directory /tmp/primeaverage2.tuoms.20191123.225959.825364\n",
      "Creating temp directory /tmp/primeaverage2.tuoms.20191123.225959.825364\n",
      "Creating temp directory /tmp/primeaverage2.tuoms.20191123.225959.825364\n",
      "Creating temp directory /tmp/primeaverage2.tuoms.20191123.225959.825364\n",
      "Creating temp directory /tmp/primeaverage2.tuoms.20191123.225959.825364\n",
      "Creating temp directory /tmp/primeaverage2.tuoms.20191123.225959.825364\n",
      "Creating temp directory /tmp/primeaverage2.tuoms.20191123.225959.825364\n",
      "Creating temp directory /tmp/primeaverage2.tuoms.20191123.225959.825364\n",
      "Creating temp directory /tmp/primeaverage2.tuoms.20191123.225959.825364\n",
      "INFO:mrjob.runner:Creating temp directory /tmp/primeaverage2.tuoms.20191123.225959.825364\n",
      "Running step 1 of 1...\n",
      "Running step 1 of 1...\n",
      "Running step 1 of 1...\n",
      "Running step 1 of 1...\n",
      "Running step 1 of 1...\n",
      "Running step 1 of 1...\n",
      "Running step 1 of 1...\n",
      "Running step 1 of 1...\n",
      "Running step 1 of 1...\n",
      "Running step 1 of 1...\n",
      "Running step 1 of 1...\n",
      "Running step 1 of 1...\n",
      "Running step 1 of 1...\n",
      "Running step 1 of 1...\n",
      "Running step 1 of 1...\n",
      "Running step 1 of 1...\n",
      "Running step 1 of 1...\n",
      "Running step 1 of 1...\n",
      "Running step 1 of 1...\n",
      "Running step 1 of 1...\n",
      "Running step 1 of 1...\n",
      "Running step 1 of 1...\n",
      "Running step 1 of 1...\n",
      "Running step 1 of 1...\n",
      "Running step 1 of 1...\n",
      "INFO:mrjob.sim:Running step 1 of 1...\n",
      "job output is in /tmp/primeaverage2.tuoms.20191123.225959.825364/output\n",
      "job output is in /tmp/primeaverage2.tuoms.20191123.225959.825364/output\n",
      "job output is in /tmp/primeaverage2.tuoms.20191123.225959.825364/output\n",
      "job output is in /tmp/primeaverage2.tuoms.20191123.225959.825364/output\n",
      "job output is in /tmp/primeaverage2.tuoms.20191123.225959.825364/output\n",
      "job output is in /tmp/primeaverage2.tuoms.20191123.225959.825364/output\n",
      "job output is in /tmp/primeaverage2.tuoms.20191123.225959.825364/output\n",
      "job output is in /tmp/primeaverage2.tuoms.20191123.225959.825364/output\n",
      "job output is in /tmp/primeaverage2.tuoms.20191123.225959.825364/output\n",
      "job output is in /tmp/primeaverage2.tuoms.20191123.225959.825364/output\n",
      "job output is in /tmp/primeaverage2.tuoms.20191123.225959.825364/output\n",
      "job output is in /tmp/primeaverage2.tuoms.20191123.225959.825364/output\n",
      "job output is in /tmp/primeaverage2.tuoms.20191123.225959.825364/output\n",
      "job output is in /tmp/primeaverage2.tuoms.20191123.225959.825364/output\n",
      "job output is in /tmp/primeaverage2.tuoms.20191123.225959.825364/output\n",
      "job output is in /tmp/primeaverage2.tuoms.20191123.225959.825364/output\n",
      "job output is in /tmp/primeaverage2.tuoms.20191123.225959.825364/output\n",
      "job output is in /tmp/primeaverage2.tuoms.20191123.225959.825364/output\n",
      "job output is in /tmp/primeaverage2.tuoms.20191123.225959.825364/output\n",
      "job output is in /tmp/primeaverage2.tuoms.20191123.225959.825364/output\n",
      "job output is in /tmp/primeaverage2.tuoms.20191123.225959.825364/output\n",
      "job output is in /tmp/primeaverage2.tuoms.20191123.225959.825364/output\n",
      "job output is in /tmp/primeaverage2.tuoms.20191123.225959.825364/output\n",
      "job output is in /tmp/primeaverage2.tuoms.20191123.225959.825364/output\n",
      "job output is in /tmp/primeaverage2.tuoms.20191123.225959.825364/output\n",
      "INFO:mrjob.runner:job output is in /tmp/primeaverage2.tuoms.20191123.225959.825364/output\n",
      "Streaming final output from /tmp/primeaverage2.tuoms.20191123.225959.825364/output...\n",
      "Streaming final output from /tmp/primeaverage2.tuoms.20191123.225959.825364/output...\n",
      "Streaming final output from /tmp/primeaverage2.tuoms.20191123.225959.825364/output...\n",
      "Streaming final output from /tmp/primeaverage2.tuoms.20191123.225959.825364/output...\n",
      "Streaming final output from /tmp/primeaverage2.tuoms.20191123.225959.825364/output...\n",
      "Streaming final output from /tmp/primeaverage2.tuoms.20191123.225959.825364/output...\n",
      "Streaming final output from /tmp/primeaverage2.tuoms.20191123.225959.825364/output...\n",
      "Streaming final output from /tmp/primeaverage2.tuoms.20191123.225959.825364/output...\n",
      "Streaming final output from /tmp/primeaverage2.tuoms.20191123.225959.825364/output...\n",
      "Streaming final output from /tmp/primeaverage2.tuoms.20191123.225959.825364/output...\n",
      "Streaming final output from /tmp/primeaverage2.tuoms.20191123.225959.825364/output...\n",
      "Streaming final output from /tmp/primeaverage2.tuoms.20191123.225959.825364/output...\n",
      "Streaming final output from /tmp/primeaverage2.tuoms.20191123.225959.825364/output...\n",
      "Streaming final output from /tmp/primeaverage2.tuoms.20191123.225959.825364/output...\n",
      "Streaming final output from /tmp/primeaverage2.tuoms.20191123.225959.825364/output...\n",
      "Streaming final output from /tmp/primeaverage2.tuoms.20191123.225959.825364/output...\n"
     ]
    },
    {
     "name": "stderr",
     "output_type": "stream",
     "text": [
      "Streaming final output from /tmp/primeaverage2.tuoms.20191123.225959.825364/output...\n",
      "Streaming final output from /tmp/primeaverage2.tuoms.20191123.225959.825364/output...\n",
      "Streaming final output from /tmp/primeaverage2.tuoms.20191123.225959.825364/output...\n",
      "Streaming final output from /tmp/primeaverage2.tuoms.20191123.225959.825364/output...\n",
      "Streaming final output from /tmp/primeaverage2.tuoms.20191123.225959.825364/output...\n",
      "Streaming final output from /tmp/primeaverage2.tuoms.20191123.225959.825364/output...\n",
      "Streaming final output from /tmp/primeaverage2.tuoms.20191123.225959.825364/output...\n",
      "Streaming final output from /tmp/primeaverage2.tuoms.20191123.225959.825364/output...\n",
      "Streaming final output from /tmp/primeaverage2.tuoms.20191123.225959.825364/output...\n",
      "INFO:mrjob.runner:Streaming final output from /tmp/primeaverage2.tuoms.20191123.225959.825364/output...\n"
     ]
    },
    {
     "name": "stdout",
     "output_type": "stream",
     "text": [
      "40.125\n"
     ]
    },
    {
     "name": "stderr",
     "output_type": "stream",
     "text": [
      "Removing temp directory /tmp/primeaverage2.tuoms.20191123.225959.825364...\n",
      "Removing temp directory /tmp/primeaverage2.tuoms.20191123.225959.825364...\n",
      "Removing temp directory /tmp/primeaverage2.tuoms.20191123.225959.825364...\n",
      "Removing temp directory /tmp/primeaverage2.tuoms.20191123.225959.825364...\n",
      "Removing temp directory /tmp/primeaverage2.tuoms.20191123.225959.825364...\n",
      "Removing temp directory /tmp/primeaverage2.tuoms.20191123.225959.825364...\n",
      "Removing temp directory /tmp/primeaverage2.tuoms.20191123.225959.825364...\n",
      "Removing temp directory /tmp/primeaverage2.tuoms.20191123.225959.825364...\n",
      "Removing temp directory /tmp/primeaverage2.tuoms.20191123.225959.825364...\n",
      "Removing temp directory /tmp/primeaverage2.tuoms.20191123.225959.825364...\n",
      "Removing temp directory /tmp/primeaverage2.tuoms.20191123.225959.825364...\n",
      "Removing temp directory /tmp/primeaverage2.tuoms.20191123.225959.825364...\n",
      "Removing temp directory /tmp/primeaverage2.tuoms.20191123.225959.825364...\n",
      "Removing temp directory /tmp/primeaverage2.tuoms.20191123.225959.825364...\n",
      "Removing temp directory /tmp/primeaverage2.tuoms.20191123.225959.825364...\n",
      "Removing temp directory /tmp/primeaverage2.tuoms.20191123.225959.825364...\n",
      "Removing temp directory /tmp/primeaverage2.tuoms.20191123.225959.825364...\n",
      "Removing temp directory /tmp/primeaverage2.tuoms.20191123.225959.825364...\n",
      "Removing temp directory /tmp/primeaverage2.tuoms.20191123.225959.825364...\n",
      "Removing temp directory /tmp/primeaverage2.tuoms.20191123.225959.825364...\n",
      "Removing temp directory /tmp/primeaverage2.tuoms.20191123.225959.825364...\n",
      "Removing temp directory /tmp/primeaverage2.tuoms.20191123.225959.825364...\n",
      "Removing temp directory /tmp/primeaverage2.tuoms.20191123.225959.825364...\n",
      "Removing temp directory /tmp/primeaverage2.tuoms.20191123.225959.825364...\n",
      "Removing temp directory /tmp/primeaverage2.tuoms.20191123.225959.825364...\n",
      "INFO:mrjob.runner:Removing temp directory /tmp/primeaverage2.tuoms.20191123.225959.825364...\n"
     ]
    }
   ],
   "source": [
    "%run primeaverage2.py primes2.txt"
   ]
  },
  {
   "cell_type": "code",
   "execution_count": 12,
   "metadata": {
    "scrolled": true
   },
   "outputs": [
    {
     "name": "stdout",
     "output_type": "stream",
     "text": [
      "1 1\n",
      "2 8\n",
      "3 9\n"
     ]
    }
   ],
   "source": [
    "for x, y in [(1,1),(2,8),(3,9)]:\n",
    "    print(x, y)"
   ]
  },
  {
   "cell_type": "code",
   "execution_count": 67,
   "metadata": {},
   "outputs": [
    {
     "name": "stdout",
     "output_type": "stream",
     "text": [
      "0\n",
      "0\n",
      "0\n",
      "77.0\n",
      "0\n",
      "77.0\n",
      "0\n",
      "582.0\n"
     ]
    }
   ],
   "source": [
    "lines=['                 The First 1,000,000 Primes (from primes.utm.edu)',\n",
    "      '',\n",
    "      '',\n",
    "      '',\n",
    "      '         2         3         5         7        11        13        17        19 ',\n",
    "      '',\n",
    "      '         2         3         5         7        11        13        17        19 ',\n",
    "      '',\n",
    "      '        59        61        67        71        73        79        83        89 ']\n",
    "\n",
    "\n",
    "for line in lines:\n",
    "    primes=line.split()\n",
    "    try:\n",
    "        fprimes=list(map(float, primes))\n",
    "        print(sum(fprimes))\n",
    "    except ValueError:\n",
    "            pass"
   ]
  },
  {
   "cell_type": "code",
   "execution_count": 69,
   "metadata": {},
   "outputs": [
    {
     "ename": "TypeError",
     "evalue": "unsupported operand type(s) for +: 'int' and 'str'",
     "output_type": "error",
     "traceback": [
      "\u001b[0;31m---------------------------------------------------------------------------\u001b[0m",
      "\u001b[0;31mTypeError\u001b[0m                                 Traceback (most recent call last)",
      "\u001b[0;32m<ipython-input-69-2478c20325f8>\u001b[0m in \u001b[0;36m<module>\u001b[0;34m\u001b[0m\n\u001b[0;32m----> 1\u001b[0;31m \u001b[0msum\u001b[0m\u001b[0;34m(\u001b[0m\u001b[0;34m[\u001b[0m\u001b[0;34m'f'\u001b[0m\u001b[0;34m]\u001b[0m\u001b[0;34m)\u001b[0m\u001b[0;34m\u001b[0m\u001b[0;34m\u001b[0m\u001b[0m\n\u001b[0m",
      "\u001b[0;31mTypeError\u001b[0m: unsupported operand type(s) for +: 'int' and 'str'"
     ]
    }
   ],
   "source": []
  },
  {
   "cell_type": "code",
   "execution_count": 15,
   "metadata": {},
   "outputs": [
    {
     "name": "stdout",
     "output_type": "stream",
     "text": [
      "Overwriting primeaverage2.py\n"
     ]
    }
   ],
   "source": [
    "%%writefile primeaverage2.py\n",
    "\n",
    "from mrjob.job import MRJob\n",
    "from mrjob.protocol import RawValueProtocol\n",
    "\n",
    "class PrimeAverage2(MRJob):\n",
    "    OUTPUT_PROTOCOL = RawValueProtocol\n",
    "    \n",
    "    def mapper(self, _, line):\n",
    "        primes=line.split()\n",
    "        try:\n",
    "            fprimes=list(map(float, primes))\n",
    "            if len(fprimes)>0:\n",
    "                yield(None, (sum(fprimes), 8))\n",
    "        except ValueError:\n",
    "            pass\n",
    "    \n",
    "    '''def combiner(self, _, sum_cnt_itr):\n",
    "        totsum=0\n",
    "        totcnt=0\n",
    "        for sum_, cnt in sum_cnt_itr:\n",
    "            totsum += sum_\n",
    "            totcnt += cnt\n",
    "            \n",
    "        yield(None, (totsum, totcnt))'''\n",
    "        \n",
    "    def reducer(self, _, sum_cnt_itr):\n",
    "        totsum=0\n",
    "        totcnt=0\n",
    "        for sum_, cnt in sum_cnt_itr:\n",
    "            totsum += sum_\n",
    "            totcnt += cnt\n",
    "            \n",
    "        yield(None, str(totsum/totcnt))\n",
    "        \n",
    "        \n",
    "if __name__ == '__main__':\n",
    "    PrimeAverage2.run()        "
   ]
  },
  {
   "cell_type": "code",
   "execution_count": 16,
   "metadata": {
    "scrolled": true
   },
   "outputs": [
    {
     "name": "stderr",
     "output_type": "stream",
     "text": [
      "No configs found; falling back on auto-configuration\n",
      "No configs found; falling back on auto-configuration\n",
      "No configs found; falling back on auto-configuration\n",
      "No configs found; falling back on auto-configuration\n",
      "No configs found; falling back on auto-configuration\n",
      "No configs found; falling back on auto-configuration\n",
      "No configs found; falling back on auto-configuration\n",
      "No configs found; falling back on auto-configuration\n",
      "No configs found; falling back on auto-configuration\n",
      "No configs found; falling back on auto-configuration\n",
      "No configs found; falling back on auto-configuration\n",
      "No configs specified for local runner\n",
      "No configs specified for local runner\n",
      "No configs specified for local runner\n",
      "No configs specified for local runner\n",
      "No configs specified for local runner\n",
      "No configs specified for local runner\n",
      "No configs specified for local runner\n",
      "No configs specified for local runner\n",
      "No configs specified for local runner\n",
      "No configs specified for local runner\n",
      "No configs specified for local runner\n",
      "Creating temp directory /tmp/primeaverage2.tuoms.20191124.032339.525329\n",
      "Creating temp directory /tmp/primeaverage2.tuoms.20191124.032339.525329\n",
      "Creating temp directory /tmp/primeaverage2.tuoms.20191124.032339.525329\n",
      "Creating temp directory /tmp/primeaverage2.tuoms.20191124.032339.525329\n",
      "Creating temp directory /tmp/primeaverage2.tuoms.20191124.032339.525329\n",
      "Creating temp directory /tmp/primeaverage2.tuoms.20191124.032339.525329\n",
      "Creating temp directory /tmp/primeaverage2.tuoms.20191124.032339.525329\n",
      "Creating temp directory /tmp/primeaverage2.tuoms.20191124.032339.525329\n",
      "Creating temp directory /tmp/primeaverage2.tuoms.20191124.032339.525329\n",
      "Creating temp directory /tmp/primeaverage2.tuoms.20191124.032339.525329\n",
      "Creating temp directory /tmp/primeaverage2.tuoms.20191124.032339.525329\n",
      "Running step 1 of 1...\n",
      "Running step 1 of 1...\n",
      "Running step 1 of 1...\n",
      "Running step 1 of 1...\n",
      "Running step 1 of 1...\n",
      "Running step 1 of 1...\n",
      "Running step 1 of 1...\n",
      "Running step 1 of 1...\n",
      "Running step 1 of 1...\n",
      "Running step 1 of 1...\n",
      "Running step 1 of 1...\n",
      "job output is in /tmp/primeaverage2.tuoms.20191124.032339.525329/output\n",
      "job output is in /tmp/primeaverage2.tuoms.20191124.032339.525329/output\n",
      "job output is in /tmp/primeaverage2.tuoms.20191124.032339.525329/output\n",
      "job output is in /tmp/primeaverage2.tuoms.20191124.032339.525329/output\n",
      "job output is in /tmp/primeaverage2.tuoms.20191124.032339.525329/output\n",
      "job output is in /tmp/primeaverage2.tuoms.20191124.032339.525329/output\n",
      "job output is in /tmp/primeaverage2.tuoms.20191124.032339.525329/output\n",
      "job output is in /tmp/primeaverage2.tuoms.20191124.032339.525329/output\n",
      "job output is in /tmp/primeaverage2.tuoms.20191124.032339.525329/output\n",
      "job output is in /tmp/primeaverage2.tuoms.20191124.032339.525329/output\n",
      "job output is in /tmp/primeaverage2.tuoms.20191124.032339.525329/output\n",
      "Streaming final output from /tmp/primeaverage2.tuoms.20191124.032339.525329/output...\n",
      "Streaming final output from /tmp/primeaverage2.tuoms.20191124.032339.525329/output...\n",
      "Streaming final output from /tmp/primeaverage2.tuoms.20191124.032339.525329/output...\n",
      "Streaming final output from /tmp/primeaverage2.tuoms.20191124.032339.525329/output...\n",
      "Streaming final output from /tmp/primeaverage2.tuoms.20191124.032339.525329/output...\n",
      "Streaming final output from /tmp/primeaverage2.tuoms.20191124.032339.525329/output...\n",
      "Streaming final output from /tmp/primeaverage2.tuoms.20191124.032339.525329/output...\n",
      "Streaming final output from /tmp/primeaverage2.tuoms.20191124.032339.525329/output...\n",
      "Streaming final output from /tmp/primeaverage2.tuoms.20191124.032339.525329/output...\n",
      "Streaming final output from /tmp/primeaverage2.tuoms.20191124.032339.525329/output...\n",
      "Streaming final output from /tmp/primeaverage2.tuoms.20191124.032339.525329/output...\n"
     ]
    },
    {
     "name": "stdout",
     "output_type": "stream",
     "text": [
      "7472966.967499\n"
     ]
    },
    {
     "name": "stderr",
     "output_type": "stream",
     "text": [
      "Removing temp directory /tmp/primeaverage2.tuoms.20191124.032339.525329...\n",
      "Removing temp directory /tmp/primeaverage2.tuoms.20191124.032339.525329...\n",
      "Removing temp directory /tmp/primeaverage2.tuoms.20191124.032339.525329...\n",
      "Removing temp directory /tmp/primeaverage2.tuoms.20191124.032339.525329...\n",
      "Removing temp directory /tmp/primeaverage2.tuoms.20191124.032339.525329...\n",
      "Removing temp directory /tmp/primeaverage2.tuoms.20191124.032339.525329...\n",
      "Removing temp directory /tmp/primeaverage2.tuoms.20191124.032339.525329...\n",
      "Removing temp directory /tmp/primeaverage2.tuoms.20191124.032339.525329...\n",
      "Removing temp directory /tmp/primeaverage2.tuoms.20191124.032339.525329...\n",
      "Removing temp directory /tmp/primeaverage2.tuoms.20191124.032339.525329...\n",
      "Removing temp directory /tmp/primeaverage2.tuoms.20191124.032339.525329...\n"
     ]
    },
    {
     "name": "stdout",
     "output_type": "stream",
     "text": [
      "CPU times: user 217 ms, sys: 60.4 ms, total: 278 ms\n",
      "Wall time: 2.38 s\n"
     ]
    }
   ],
   "source": [
    "%%time\n",
    "%run primeaverage2.py primes1.txt -r local"
   ]
  },
  {
   "cell_type": "code",
   "execution_count": 3,
   "metadata": {},
   "outputs": [
    {
     "name": "stdout",
     "output_type": "stream",
     "text": [
      "Overwriting primeaverage2.py\n"
     ]
    }
   ],
   "source": [
    "%%writefile primeaverage2.py\n",
    "\n",
    "from mrjob.job import MRJob\n",
    "from mrjob.protocol import RawValueProtocol\n",
    "\n",
    "class PrimeAverage2(MRJob):\n",
    "    OUTPUT_PROTOCOL = RawValueProtocol\n",
    "    def mapper(self, _, line):\n",
    "        primes=line.split()\n",
    "        try:\n",
    "            fprimes=list(map(float, primes))\n",
    "            if len(fprimes)>0:\n",
    "                yield(None, (sum(fprimes)/8, 8))\n",
    "        except ValueError:\n",
    "            pass\n",
    "    \n",
    "    def combiner(self, _, avg_cnt_itr):\n",
    "        totsum=0\n",
    "        totcnt=0\n",
    "        for avg, cnt in avg_cnt_itr:\n",
    "            totsum += (avg*cnt)\n",
    "            totcnt += cnt\n",
    "            \n",
    "        avg=totsum/totcnt\n",
    "        yield(None, (avg, totcnt))\n",
    "        \n",
    "    def reducer(self, _, avg_cnt_itr):\n",
    "        totsum=0\n",
    "        totcnt=0\n",
    "        for avg, cnt in avg_cnt_itr:\n",
    "            totsum += (avg*cnt)\n",
    "            totcnt += cnt\n",
    "        \n",
    "        avg=totsum/totcnt\n",
    "        yield(None, str(avg))\n",
    "        \n",
    "        \n",
    "if __name__ == '__main__':\n",
    "    PrimeAverage2.run()        "
   ]
  },
  {
   "cell_type": "code",
   "execution_count": 4,
   "metadata": {},
   "outputs": [
    {
     "name": "stderr",
     "output_type": "stream",
     "text": [
      "No configs found; falling back on auto-configuration\n",
      "No configs found; falling back on auto-configuration\n",
      "No configs specified for local runner\n",
      "No configs specified for local runner\n",
      "Creating temp directory /tmp/primeaverage2.tuoms.20191124.215514.524619\n",
      "Creating temp directory /tmp/primeaverage2.tuoms.20191124.215514.524619\n",
      "Running step 1 of 1...\n",
      "Running step 1 of 1...\n",
      "job output is in /tmp/primeaverage2.tuoms.20191124.215514.524619/output\n",
      "job output is in /tmp/primeaverage2.tuoms.20191124.215514.524619/output\n",
      "Streaming final output from /tmp/primeaverage2.tuoms.20191124.215514.524619/output...\n",
      "Streaming final output from /tmp/primeaverage2.tuoms.20191124.215514.524619/output...\n"
     ]
    },
    {
     "name": "stdout",
     "output_type": "stream",
     "text": [
      "7472966.967499\n"
     ]
    },
    {
     "name": "stderr",
     "output_type": "stream",
     "text": [
      "Removing temp directory /tmp/primeaverage2.tuoms.20191124.215514.524619...\n",
      "Removing temp directory /tmp/primeaverage2.tuoms.20191124.215514.524619...\n"
     ]
    },
    {
     "name": "stdout",
     "output_type": "stream",
     "text": [
      "CPU times: user 148 ms, sys: 54.3 ms, total: 202 ms\n",
      "Wall time: 3.38 s\n"
     ]
    }
   ],
   "source": [
    "%%time\n",
    "%run primeaverage2.py primes1.txt -r local"
   ]
  },
  {
   "cell_type": "code",
   "execution_count": 1,
   "metadata": {},
   "outputs": [
    {
     "name": "stdout",
     "output_type": "stream",
     "text": [
      "Overwriting primeaverage2.py\n"
     ]
    }
   ],
   "source": [
    "%%writefile primeaverage2.py\n",
    "\n",
    "from mrjob.job import MRJob\n",
    "from mrjob.protocol import RawValueProtocol\n",
    "\n",
    "class PrimeAverage2(MRJob):\n",
    "    OUTPUT_PROTOCOL = RawValueProtocol\n",
    "    def mapper(self, _, line):\n",
    "        primes=line.split()\n",
    "        try:\n",
    "            fprimes=list(map(float, primes))\n",
    "            if len(fprimes)>0:\n",
    "                yield(None, (sum(fprimes), 8))\n",
    "        except ValueError:\n",
    "            pass\n",
    "    \n",
    "    def combiner(self, _, sum_cnt_itr):\n",
    "        totsum=0\n",
    "        totcnt=0\n",
    "        for sum_, cnt in sum_cnt_itr:\n",
    "            totsum += sum_\n",
    "            totcnt += cnt\n",
    "            \n",
    "        yield(None, (totsum, totcnt))\n",
    "        \n",
    "    def reducer(self, _, sum_cnt_itr):\n",
    "        totsum=0\n",
    "        totcnt=0\n",
    "        for sum_, cnt in sum_cnt_itr:\n",
    "            totsum += sum_\n",
    "            totcnt += cnt\n",
    "        \n",
    "        avg=totsum/totcnt\n",
    "        yield(None, str(avg))\n",
    "        \n",
    "        \n",
    "if __name__ == '__main__':\n",
    "    PrimeAverage2.run()        "
   ]
  },
  {
   "cell_type": "code",
   "execution_count": 2,
   "metadata": {},
   "outputs": [
    {
     "name": "stderr",
     "output_type": "stream",
     "text": [
      "No configs found; falling back on auto-configuration\n",
      "No configs specified for local runner\n",
      "Creating temp directory /tmp/primeaverage2.tuoms.20191124.215454.827233\n",
      "Running step 1 of 1...\n",
      "job output is in /tmp/primeaverage2.tuoms.20191124.215454.827233/output\n",
      "Streaming final output from /tmp/primeaverage2.tuoms.20191124.215454.827233/output...\n"
     ]
    },
    {
     "name": "stdout",
     "output_type": "stream",
     "text": [
      "7472966.967499\n"
     ]
    },
    {
     "name": "stderr",
     "output_type": "stream",
     "text": [
      "Removing temp directory /tmp/primeaverage2.tuoms.20191124.215454.827233...\n"
     ]
    },
    {
     "name": "stdout",
     "output_type": "stream",
     "text": [
      "CPU times: user 451 ms, sys: 343 ms, total: 795 ms\n",
      "Wall time: 3.73 s\n"
     ]
    }
   ],
   "source": [
    "%%time\n",
    "%run primeaverage2.py primes1.txt -r local"
   ]
  },
  {
   "cell_type": "code",
   "execution_count": 49,
   "metadata": {},
   "outputs": [
    {
     "name": "stdout",
     "output_type": "stream",
     "text": [
      "Overwriting primeaverage2.py\n"
     ]
    }
   ],
   "source": [
    "%%writefile primeaverage2.py\n",
    "\n",
    "from mrjob.job import MRJob\n",
    "from mrjob.protocol import RawValueProtocol\n",
    "\n",
    "class PrimeAverage2(MRJob):\n",
    "    OUTPUT_PROTOCOL = RawValueProtocol\n",
    "\n",
    "    def mapper(self, _, line):\n",
    "        primes=line.split()\n",
    "        try:\n",
    "            fprimes=list(map(float, primes))\n",
    "            if len(fprimes)>0:\n",
    "                yield(fprimes, 8)\n",
    "                \n",
    "        except ValueError:\n",
    "            pass\n",
    "    def combiner(self, key, val):\n",
    "        \n",
    "        ts=sum(key)\n",
    "        tc=sum(val)\n",
    "        \n",
    "        yield(None, (ts/tc,tc))\n",
    "        \n",
    "        \n",
    "    def reducer(self, _, sum_cnt_itr):\n",
    "        totsum=0\n",
    "        totcnt=0\n",
    "        for sum_, cnt in sum_cnt_itr:\n",
    "            totsum += sum_\n",
    "            totcnt += cnt\n",
    "            \n",
    "        yield(None, str(totsum/totcnt))\n",
    "        \n",
    "        \n",
    "if __name__ == '__main__':\n",
    "    PrimeAverage2.run()   "
   ]
  },
  {
   "cell_type": "code",
   "execution_count": 50,
   "metadata": {},
   "outputs": [
    {
     "name": "stderr",
     "output_type": "stream",
     "text": [
      "No configs found; falling back on auto-configuration\n",
      "No configs found; falling back on auto-configuration\n",
      "No configs found; falling back on auto-configuration\n",
      "No configs found; falling back on auto-configuration\n",
      "No configs found; falling back on auto-configuration\n",
      "No configs found; falling back on auto-configuration\n",
      "No configs found; falling back on auto-configuration\n",
      "No configs found; falling back on auto-configuration\n",
      "No configs found; falling back on auto-configuration\n",
      "No configs found; falling back on auto-configuration\n",
      "No configs found; falling back on auto-configuration\n",
      "No configs found; falling back on auto-configuration\n",
      "No configs found; falling back on auto-configuration\n",
      "No configs found; falling back on auto-configuration\n",
      "No configs found; falling back on auto-configuration\n",
      "No configs found; falling back on auto-configuration\n",
      "No configs found; falling back on auto-configuration\n",
      "No configs found; falling back on auto-configuration\n",
      "No configs found; falling back on auto-configuration\n",
      "No configs found; falling back on auto-configuration\n",
      "No configs found; falling back on auto-configuration\n",
      "No configs found; falling back on auto-configuration\n",
      "No configs found; falling back on auto-configuration\n",
      "No configs found; falling back on auto-configuration\n",
      "No configs found; falling back on auto-configuration\n",
      "No configs found; falling back on auto-configuration\n",
      "No configs found; falling back on auto-configuration\n",
      "No configs specified for local runner\n",
      "No configs specified for local runner\n",
      "No configs specified for local runner\n",
      "No configs specified for local runner\n",
      "No configs specified for local runner\n",
      "No configs specified for local runner\n",
      "No configs specified for local runner\n",
      "No configs specified for local runner\n",
      "No configs specified for local runner\n",
      "No configs specified for local runner\n",
      "No configs specified for local runner\n",
      "No configs specified for local runner\n",
      "No configs specified for local runner\n",
      "No configs specified for local runner\n",
      "No configs specified for local runner\n",
      "No configs specified for local runner\n",
      "No configs specified for local runner\n",
      "No configs specified for local runner\n",
      "No configs specified for local runner\n",
      "No configs specified for local runner\n",
      "No configs specified for local runner\n",
      "No configs specified for local runner\n",
      "No configs specified for local runner\n",
      "No configs specified for local runner\n",
      "No configs specified for local runner\n",
      "No configs specified for local runner\n",
      "No configs specified for local runner\n",
      "Creating temp directory /tmp/primeaverage2.tuoms.20191124.035558.737807\n",
      "Creating temp directory /tmp/primeaverage2.tuoms.20191124.035558.737807\n",
      "Creating temp directory /tmp/primeaverage2.tuoms.20191124.035558.737807\n",
      "Creating temp directory /tmp/primeaverage2.tuoms.20191124.035558.737807\n",
      "Creating temp directory /tmp/primeaverage2.tuoms.20191124.035558.737807\n",
      "Creating temp directory /tmp/primeaverage2.tuoms.20191124.035558.737807\n",
      "Creating temp directory /tmp/primeaverage2.tuoms.20191124.035558.737807\n",
      "Creating temp directory /tmp/primeaverage2.tuoms.20191124.035558.737807\n",
      "Creating temp directory /tmp/primeaverage2.tuoms.20191124.035558.737807\n",
      "Creating temp directory /tmp/primeaverage2.tuoms.20191124.035558.737807\n",
      "Creating temp directory /tmp/primeaverage2.tuoms.20191124.035558.737807\n",
      "Creating temp directory /tmp/primeaverage2.tuoms.20191124.035558.737807\n",
      "Creating temp directory /tmp/primeaverage2.tuoms.20191124.035558.737807\n",
      "Creating temp directory /tmp/primeaverage2.tuoms.20191124.035558.737807\n",
      "Creating temp directory /tmp/primeaverage2.tuoms.20191124.035558.737807\n",
      "Creating temp directory /tmp/primeaverage2.tuoms.20191124.035558.737807\n",
      "Creating temp directory /tmp/primeaverage2.tuoms.20191124.035558.737807\n",
      "Creating temp directory /tmp/primeaverage2.tuoms.20191124.035558.737807\n",
      "Creating temp directory /tmp/primeaverage2.tuoms.20191124.035558.737807\n",
      "Creating temp directory /tmp/primeaverage2.tuoms.20191124.035558.737807\n",
      "Creating temp directory /tmp/primeaverage2.tuoms.20191124.035558.737807\n",
      "Creating temp directory /tmp/primeaverage2.tuoms.20191124.035558.737807\n",
      "Creating temp directory /tmp/primeaverage2.tuoms.20191124.035558.737807\n",
      "Creating temp directory /tmp/primeaverage2.tuoms.20191124.035558.737807\n",
      "Creating temp directory /tmp/primeaverage2.tuoms.20191124.035558.737807\n",
      "Creating temp directory /tmp/primeaverage2.tuoms.20191124.035558.737807\n",
      "Creating temp directory /tmp/primeaverage2.tuoms.20191124.035558.737807\n",
      "Running step 1 of 1...\n",
      "Running step 1 of 1...\n",
      "Running step 1 of 1...\n",
      "Running step 1 of 1...\n",
      "Running step 1 of 1...\n",
      "Running step 1 of 1...\n",
      "Running step 1 of 1...\n",
      "Running step 1 of 1...\n",
      "Running step 1 of 1...\n",
      "Running step 1 of 1...\n",
      "Running step 1 of 1...\n",
      "Running step 1 of 1...\n",
      "Running step 1 of 1...\n",
      "Running step 1 of 1...\n",
      "Running step 1 of 1...\n",
      "Running step 1 of 1...\n",
      "Running step 1 of 1...\n",
      "Running step 1 of 1...\n",
      "Running step 1 of 1...\n",
      "Running step 1 of 1...\n",
      "Running step 1 of 1...\n",
      "Running step 1 of 1...\n",
      "Running step 1 of 1...\n",
      "Running step 1 of 1...\n",
      "Running step 1 of 1...\n",
      "Running step 1 of 1...\n",
      "Running step 1 of 1...\n",
      "job output is in /tmp/primeaverage2.tuoms.20191124.035558.737807/output\n",
      "job output is in /tmp/primeaverage2.tuoms.20191124.035558.737807/output\n",
      "job output is in /tmp/primeaverage2.tuoms.20191124.035558.737807/output\n",
      "job output is in /tmp/primeaverage2.tuoms.20191124.035558.737807/output\n",
      "job output is in /tmp/primeaverage2.tuoms.20191124.035558.737807/output\n",
      "job output is in /tmp/primeaverage2.tuoms.20191124.035558.737807/output\n",
      "job output is in /tmp/primeaverage2.tuoms.20191124.035558.737807/output\n",
      "job output is in /tmp/primeaverage2.tuoms.20191124.035558.737807/output\n",
      "job output is in /tmp/primeaverage2.tuoms.20191124.035558.737807/output\n",
      "job output is in /tmp/primeaverage2.tuoms.20191124.035558.737807/output\n",
      "job output is in /tmp/primeaverage2.tuoms.20191124.035558.737807/output\n",
      "job output is in /tmp/primeaverage2.tuoms.20191124.035558.737807/output\n",
      "job output is in /tmp/primeaverage2.tuoms.20191124.035558.737807/output\n",
      "job output is in /tmp/primeaverage2.tuoms.20191124.035558.737807/output\n",
      "job output is in /tmp/primeaverage2.tuoms.20191124.035558.737807/output\n",
      "job output is in /tmp/primeaverage2.tuoms.20191124.035558.737807/output\n",
      "job output is in /tmp/primeaverage2.tuoms.20191124.035558.737807/output\n",
      "job output is in /tmp/primeaverage2.tuoms.20191124.035558.737807/output\n",
      "job output is in /tmp/primeaverage2.tuoms.20191124.035558.737807/output\n",
      "job output is in /tmp/primeaverage2.tuoms.20191124.035558.737807/output\n",
      "job output is in /tmp/primeaverage2.tuoms.20191124.035558.737807/output\n",
      "job output is in /tmp/primeaverage2.tuoms.20191124.035558.737807/output\n",
      "job output is in /tmp/primeaverage2.tuoms.20191124.035558.737807/output\n",
      "job output is in /tmp/primeaverage2.tuoms.20191124.035558.737807/output\n",
      "job output is in /tmp/primeaverage2.tuoms.20191124.035558.737807/output\n",
      "job output is in /tmp/primeaverage2.tuoms.20191124.035558.737807/output\n",
      "job output is in /tmp/primeaverage2.tuoms.20191124.035558.737807/output\n",
      "Streaming final output from /tmp/primeaverage2.tuoms.20191124.035558.737807/output...\n",
      "Streaming final output from /tmp/primeaverage2.tuoms.20191124.035558.737807/output...\n",
      "Streaming final output from /tmp/primeaverage2.tuoms.20191124.035558.737807/output...\n",
      "Streaming final output from /tmp/primeaverage2.tuoms.20191124.035558.737807/output...\n",
      "Streaming final output from /tmp/primeaverage2.tuoms.20191124.035558.737807/output...\n",
      "Streaming final output from /tmp/primeaverage2.tuoms.20191124.035558.737807/output...\n",
      "Streaming final output from /tmp/primeaverage2.tuoms.20191124.035558.737807/output...\n",
      "Streaming final output from /tmp/primeaverage2.tuoms.20191124.035558.737807/output...\n",
      "Streaming final output from /tmp/primeaverage2.tuoms.20191124.035558.737807/output...\n",
      "Streaming final output from /tmp/primeaverage2.tuoms.20191124.035558.737807/output...\n",
      "Streaming final output from /tmp/primeaverage2.tuoms.20191124.035558.737807/output...\n",
      "Streaming final output from /tmp/primeaverage2.tuoms.20191124.035558.737807/output...\n",
      "Streaming final output from /tmp/primeaverage2.tuoms.20191124.035558.737807/output...\n",
      "Streaming final output from /tmp/primeaverage2.tuoms.20191124.035558.737807/output...\n",
      "Streaming final output from /tmp/primeaverage2.tuoms.20191124.035558.737807/output...\n"
     ]
    },
    {
     "name": "stderr",
     "output_type": "stream",
     "text": [
      "Streaming final output from /tmp/primeaverage2.tuoms.20191124.035558.737807/output...\n",
      "Streaming final output from /tmp/primeaverage2.tuoms.20191124.035558.737807/output...\n",
      "Streaming final output from /tmp/primeaverage2.tuoms.20191124.035558.737807/output...\n",
      "Streaming final output from /tmp/primeaverage2.tuoms.20191124.035558.737807/output...\n",
      "Streaming final output from /tmp/primeaverage2.tuoms.20191124.035558.737807/output...\n",
      "Streaming final output from /tmp/primeaverage2.tuoms.20191124.035558.737807/output...\n",
      "Streaming final output from /tmp/primeaverage2.tuoms.20191124.035558.737807/output...\n",
      "Streaming final output from /tmp/primeaverage2.tuoms.20191124.035558.737807/output...\n",
      "Streaming final output from /tmp/primeaverage2.tuoms.20191124.035558.737807/output...\n",
      "Streaming final output from /tmp/primeaverage2.tuoms.20191124.035558.737807/output...\n",
      "Streaming final output from /tmp/primeaverage2.tuoms.20191124.035558.737807/output...\n",
      "Streaming final output from /tmp/primeaverage2.tuoms.20191124.035558.737807/output...\n"
     ]
    },
    {
     "name": "stdout",
     "output_type": "stream",
     "text": [
      "934120.870937375\n"
     ]
    },
    {
     "name": "stderr",
     "output_type": "stream",
     "text": [
      "Removing temp directory /tmp/primeaverage2.tuoms.20191124.035558.737807...\n",
      "Removing temp directory /tmp/primeaverage2.tuoms.20191124.035558.737807...\n",
      "Removing temp directory /tmp/primeaverage2.tuoms.20191124.035558.737807...\n",
      "Removing temp directory /tmp/primeaverage2.tuoms.20191124.035558.737807...\n",
      "Removing temp directory /tmp/primeaverage2.tuoms.20191124.035558.737807...\n",
      "Removing temp directory /tmp/primeaverage2.tuoms.20191124.035558.737807...\n",
      "Removing temp directory /tmp/primeaverage2.tuoms.20191124.035558.737807...\n",
      "Removing temp directory /tmp/primeaverage2.tuoms.20191124.035558.737807...\n",
      "Removing temp directory /tmp/primeaverage2.tuoms.20191124.035558.737807...\n",
      "Removing temp directory /tmp/primeaverage2.tuoms.20191124.035558.737807...\n",
      "Removing temp directory /tmp/primeaverage2.tuoms.20191124.035558.737807...\n",
      "Removing temp directory /tmp/primeaverage2.tuoms.20191124.035558.737807...\n",
      "Removing temp directory /tmp/primeaverage2.tuoms.20191124.035558.737807...\n",
      "Removing temp directory /tmp/primeaverage2.tuoms.20191124.035558.737807...\n",
      "Removing temp directory /tmp/primeaverage2.tuoms.20191124.035558.737807...\n",
      "Removing temp directory /tmp/primeaverage2.tuoms.20191124.035558.737807...\n",
      "Removing temp directory /tmp/primeaverage2.tuoms.20191124.035558.737807...\n",
      "Removing temp directory /tmp/primeaverage2.tuoms.20191124.035558.737807...\n",
      "Removing temp directory /tmp/primeaverage2.tuoms.20191124.035558.737807...\n",
      "Removing temp directory /tmp/primeaverage2.tuoms.20191124.035558.737807...\n",
      "Removing temp directory /tmp/primeaverage2.tuoms.20191124.035558.737807...\n",
      "Removing temp directory /tmp/primeaverage2.tuoms.20191124.035558.737807...\n",
      "Removing temp directory /tmp/primeaverage2.tuoms.20191124.035558.737807...\n",
      "Removing temp directory /tmp/primeaverage2.tuoms.20191124.035558.737807...\n",
      "Removing temp directory /tmp/primeaverage2.tuoms.20191124.035558.737807...\n",
      "Removing temp directory /tmp/primeaverage2.tuoms.20191124.035558.737807...\n",
      "Removing temp directory /tmp/primeaverage2.tuoms.20191124.035558.737807...\n"
     ]
    },
    {
     "name": "stdout",
     "output_type": "stream",
     "text": [
      "CPU times: user 307 ms, sys: 67.9 ms, total: 375 ms\n",
      "Wall time: 4.26 s\n"
     ]
    }
   ],
   "source": [
    "%%time\n",
    "%run primeaverage2.py primes1.txt -r local"
   ]
  },
  {
   "cell_type": "code",
   "execution_count": 11,
   "metadata": {},
   "outputs": [
    {
     "data": {
      "text/plain": [
       "353.5533905932738"
      ]
     },
     "execution_count": 11,
     "metadata": {},
     "output_type": "execute_result"
    }
   ],
   "source": [
    "import math\n",
    "n=1000000\n",
    "k=int(n/8)\n",
    "sk=math.sqrt(k)\n",
    "sk"
   ]
  },
  {
   "cell_type": "code",
   "execution_count": 12,
   "metadata": {},
   "outputs": [
    {
     "data": {
      "text/plain": [
       "1000.0"
      ]
     },
     "execution_count": 12,
     "metadata": {},
     "output_type": "execute_result"
    }
   ],
   "source": [
    "math.sqrt(1000000)"
   ]
  },
  {
   "cell_type": "code",
   "execution_count": null,
   "metadata": {},
   "outputs": [],
   "source": []
  }
 ],
 "metadata": {
  "kernelspec": {
   "display_name": "Python 3",
   "language": "python",
   "name": "python3"
  },
  "language_info": {
   "codemirror_mode": {
    "name": "ipython",
    "version": 3
   },
   "file_extension": ".py",
   "mimetype": "text/x-python",
   "name": "python",
   "nbconvert_exporter": "python",
   "pygments_lexer": "ipython3",
   "version": "3.6.9"
  }
 },
 "nbformat": 4,
 "nbformat_minor": 2
}
