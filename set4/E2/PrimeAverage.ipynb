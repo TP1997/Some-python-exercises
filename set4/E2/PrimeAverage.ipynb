{
 "cells": [
  {
   "cell_type": "code",
   "execution_count": 1,
   "metadata": {},
   "outputs": [
    {
     "name": "stdout",
     "output_type": "stream",
     "text": [
      "Overwriting primeaverage2.py\n"
     ]
    }
   ],
   "source": [
    "%%writefile primeaverage2.py\n",
    "\n",
    "from mrjob.job import MRJob\n",
    "from mrjob.protocol import RawValueProtocol\n",
    "\n",
    "class PrimeAverage2(MRJob):\n",
    "    OUTPUT_PROTOCOL = RawValueProtocol\n",
    "    def mapper(self, _, line):\n",
    "        primes=line.split()\n",
    "        try:\n",
    "            fprimes=list(map(float, primes))\n",
    "            if len(fprimes)>0:\n",
    "                yield(None, (sum(fprimes), 8))\n",
    "        except ValueError:\n",
    "            pass\n",
    "    \n",
    "    def combiner(self, _, sum_cnt_itr):\n",
    "        totsum=0\n",
    "        totcnt=0\n",
    "        for sum_, cnt in sum_cnt_itr:\n",
    "            totsum += sum_\n",
    "            totcnt += cnt\n",
    "            \n",
    "        yield(None, (totsum, totcnt))\n",
    "        \n",
    "    def reducer(self, _, sum_cnt_itr):\n",
    "        totsum=0\n",
    "        totcnt=0\n",
    "        for sum_, cnt in sum_cnt_itr:\n",
    "            totsum += sum_\n",
    "            totcnt += cnt\n",
    "        \n",
    "        avg=totsum/totcnt\n",
    "        yield(None, str(avg))\n",
    "        \n",
    "        \n",
    "if __name__ == '__main__':\n",
    "    PrimeAverage2.run()        "
   ]
  },
  {
   "cell_type": "code",
   "execution_count": null,
   "metadata": {},
   "outputs": [],
   "source": [
    "%run primeaverage2.py primes1.txt"
   ]
  }
 ],
 "metadata": {
  "kernelspec": {
   "display_name": "Python 3",
   "language": "python",
   "name": "python3"
  },
  "language_info": {
   "codemirror_mode": {
    "name": "ipython",
    "version": 3
   },
   "file_extension": ".py",
   "mimetype": "text/x-python",
   "name": "python",
   "nbconvert_exporter": "python",
   "pygments_lexer": "ipython3",
   "version": "3.6.9"
  }
 },
 "nbformat": 4,
 "nbformat_minor": 2
}
