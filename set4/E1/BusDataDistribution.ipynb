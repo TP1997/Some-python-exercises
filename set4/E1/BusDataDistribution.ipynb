{
 "cells": [
  {
   "cell_type": "code",
   "execution_count": 1,
   "metadata": {},
   "outputs": [
    {
     "name": "stdout",
     "output_type": "stream",
     "text": [
      "Overwriting bus_data_distribution.py\n"
     ]
    }
   ],
   "source": [
    "%%writefile bus_data_distribution.py\n",
    "\n",
    "from mrjob.job import MRJob\n",
    "from mrjob.protocol import RawValueProtocol\n",
    "import sys\n",
    "\n",
    "class BusDataDist(MRJob):\n",
    "    OUTPUT_PROTOCOL = RawValueProtocol\n",
    "    \n",
    "    def mapper_init(self):\n",
    "        self.intervals=set(map(str, list(range(0,24))))\n",
    "        self.found_intervals=set()\n",
    "        \n",
    "        \n",
    "    def mapper(self, key, line):\n",
    "        if line != ';;;;;;;':\n",
    "            time=line.split(';')[1]\n",
    "            try:\n",
    "                (interval,_,_)=time.split(':')\n",
    "                interval = interval[1] if interval[0]=='0' else interval \n",
    "                self.found_intervals.add(interval)\n",
    "                yield(interval, 1)\n",
    "            except ValueError:\n",
    "                pass\n",
    "    \n",
    "    # Handle hour intervals which didn't occur in the data.\n",
    "    def mapper_final(self):\n",
    "        missed_intervals=self.intervals.difference(self.found_intervals)\n",
    "        for interval in missed_intervals:\n",
    "            yield(interval, 0)\n",
    "    \n",
    "    def combiner(self, intr, cnt_itr):\n",
    "        yield(intr, sum(cnt_itr))\n",
    "               \n",
    "    def reducer(self, intr, cnt_itr):\n",
    "        yield(None, f'{intr};{sum(cnt_itr)}')\n",
    "        \n",
    "    \n",
    "        \n",
    "if __name__ == '__main__':\n",
    "    BusDataDist.run()"
   ]
  },
  {
   "cell_type": "code",
   "execution_count": 2,
   "metadata": {},
   "outputs": [
    {
     "name": "stderr",
     "output_type": "stream",
     "text": [
      "No configs found; falling back on auto-configuration\n",
      "No configs specified for inline runner\n",
      "Creating temp directory /tmp/bus_data_distribution.tuoms.20191204.154753.795925\n",
      "Running step 1 of 1...\n",
      "job output is in /tmp/bus_data_distribution.tuoms.20191204.154753.795925/output\n",
      "Streaming final output from /tmp/bus_data_distribution.tuoms.20191204.154753.795925/output...\n"
     ]
    },
    {
     "name": "stdout",
     "output_type": "stream",
     "text": [
      "16;110325\n",
      "17;68919\n",
      "6;0\n",
      "7;0\n",
      "2;1658\n",
      "20;73257\n",
      "4;1715\n",
      "5;0\n",
      "14;159825\n",
      "15;30058\n",
      "10;7842\n",
      "11;55839\n",
      "0;11146\n",
      "1;0\n",
      "23;11008\n",
      "3;9169\n",
      "21;107740\n",
      "22;66809\n",
      "12;63900\n",
      "13;267964\n",
      "18;228476\n",
      "19;88894\n",
      "8;130807\n",
      "9;222687\n"
     ]
    },
    {
     "name": "stderr",
     "output_type": "stream",
     "text": [
      "Removing temp directory /tmp/bus_data_distribution.tuoms.20191204.154753.795925...\n"
     ]
    }
   ],
   "source": [
    "%run bus_data_distribution.py busdatas.csv"
   ]
  },
  {
   "cell_type": "code",
   "execution_count": null,
   "metadata": {},
   "outputs": [],
   "source": []
  }
 ],
 "metadata": {
  "kernelspec": {
   "display_name": "Python 3",
   "language": "python",
   "name": "python3"
  },
  "language_info": {
   "codemirror_mode": {
    "name": "ipython",
    "version": 3
   },
   "file_extension": ".py",
   "mimetype": "text/x-python",
   "name": "python",
   "nbconvert_exporter": "python",
   "pygments_lexer": "ipython3",
   "version": "3.6.9"
  }
 },
 "nbformat": 4,
 "nbformat_minor": 2
}
